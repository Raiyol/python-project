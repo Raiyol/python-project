{
 "metadata": {
  "language_info": {
   "codemirror_mode": {
    "name": "ipython",
    "version": 3
   },
   "file_extension": ".py",
   "mimetype": "text/x-python",
   "name": "python",
   "nbconvert_exporter": "python",
   "pygments_lexer": "ipython3",
   "version": "3.7.2-final"
  },
  "orig_nbformat": 2,
  "kernelspec": {
   "name": "python37264bit6014d47669f94d00ac95b49925f8380b",
   "display_name": "Python 3.7.2 64-bit",
   "language": "python"
  }
 },
 "nbformat": 4,
 "nbformat_minor": 2,
 "cells": [
  {
   "source": [
    "# Modélisation : Test des différents algorithmes"
   ],
   "cell_type": "markdown",
   "metadata": {}
  },
  {
   "cell_type": "code",
   "execution_count": 12,
   "metadata": {},
   "outputs": [],
   "source": [
    "import pandas as pd\n",
    "import numpy as np\n",
    "data = pd.read_csv('SeoulBikeData.csv', sep=',')"
   ]
  },
  {
   "source": [
    "## Transformation des mots en chiffre"
   ],
   "cell_type": "markdown",
   "metadata": {}
  },
  {
   "cell_type": "code",
   "execution_count": 13,
   "metadata": {},
   "outputs": [
    {
     "output_type": "execute_result",
     "data": {
      "text/plain": [
       "   Rented Bike Count  Hour  Temperature(°C)  Humidity(%)  Wind speed (m/s)  \\\n",
       "0                254     0             -5.2           37               2.2   \n",
       "1                204     1             -5.5           38               0.8   \n",
       "2                173     2             -6.0           39               1.0   \n",
       "3                107     3             -6.2           40               0.9   \n",
       "4                 78     4             -6.0           36               2.3   \n",
       "\n",
       "   Visibility (10m)  Dew point temperature(°C)  Solar Radiation (MJ/m2)  \\\n",
       "0              2000                      -17.6                      0.0   \n",
       "1              2000                      -17.6                      0.0   \n",
       "2              2000                      -17.7                      0.0   \n",
       "3              2000                      -17.6                      0.0   \n",
       "4              2000                      -18.6                      0.0   \n",
       "\n",
       "   Rainfall(mm)  Snowfall (cm)  Holiday (int)  Seasons (int)  \\\n",
       "0           0.0            0.0              0            1.0   \n",
       "1           0.0            0.0              0            1.0   \n",
       "2           0.0            0.0              0            1.0   \n",
       "3           0.0            0.0              0            1.0   \n",
       "4           0.0            0.0              0            1.0   \n",
       "\n",
       "   Functioning Day (int)  \n",
       "0                      1  \n",
       "1                      1  \n",
       "2                      1  \n",
       "3                      1  \n",
       "4                      1  "
      ],
      "text/html": "<div>\n<style scoped>\n    .dataframe tbody tr th:only-of-type {\n        vertical-align: middle;\n    }\n\n    .dataframe tbody tr th {\n        vertical-align: top;\n    }\n\n    .dataframe thead th {\n        text-align: right;\n    }\n</style>\n<table border=\"1\" class=\"dataframe\">\n  <thead>\n    <tr style=\"text-align: right;\">\n      <th></th>\n      <th>Rented Bike Count</th>\n      <th>Hour</th>\n      <th>Temperature(°C)</th>\n      <th>Humidity(%)</th>\n      <th>Wind speed (m/s)</th>\n      <th>Visibility (10m)</th>\n      <th>Dew point temperature(°C)</th>\n      <th>Solar Radiation (MJ/m2)</th>\n      <th>Rainfall(mm)</th>\n      <th>Snowfall (cm)</th>\n      <th>Holiday (int)</th>\n      <th>Seasons (int)</th>\n      <th>Functioning Day (int)</th>\n    </tr>\n  </thead>\n  <tbody>\n    <tr>\n      <th>0</th>\n      <td>254</td>\n      <td>0</td>\n      <td>-5.2</td>\n      <td>37</td>\n      <td>2.2</td>\n      <td>2000</td>\n      <td>-17.6</td>\n      <td>0.0</td>\n      <td>0.0</td>\n      <td>0.0</td>\n      <td>0</td>\n      <td>1.0</td>\n      <td>1</td>\n    </tr>\n    <tr>\n      <th>1</th>\n      <td>204</td>\n      <td>1</td>\n      <td>-5.5</td>\n      <td>38</td>\n      <td>0.8</td>\n      <td>2000</td>\n      <td>-17.6</td>\n      <td>0.0</td>\n      <td>0.0</td>\n      <td>0.0</td>\n      <td>0</td>\n      <td>1.0</td>\n      <td>1</td>\n    </tr>\n    <tr>\n      <th>2</th>\n      <td>173</td>\n      <td>2</td>\n      <td>-6.0</td>\n      <td>39</td>\n      <td>1.0</td>\n      <td>2000</td>\n      <td>-17.7</td>\n      <td>0.0</td>\n      <td>0.0</td>\n      <td>0.0</td>\n      <td>0</td>\n      <td>1.0</td>\n      <td>1</td>\n    </tr>\n    <tr>\n      <th>3</th>\n      <td>107</td>\n      <td>3</td>\n      <td>-6.2</td>\n      <td>40</td>\n      <td>0.9</td>\n      <td>2000</td>\n      <td>-17.6</td>\n      <td>0.0</td>\n      <td>0.0</td>\n      <td>0.0</td>\n      <td>0</td>\n      <td>1.0</td>\n      <td>1</td>\n    </tr>\n    <tr>\n      <th>4</th>\n      <td>78</td>\n      <td>4</td>\n      <td>-6.0</td>\n      <td>36</td>\n      <td>2.3</td>\n      <td>2000</td>\n      <td>-18.6</td>\n      <td>0.0</td>\n      <td>0.0</td>\n      <td>0.0</td>\n      <td>0</td>\n      <td>1.0</td>\n      <td>1</td>\n    </tr>\n  </tbody>\n</table>\n</div>"
     },
     "metadata": {},
     "execution_count": 13
    }
   ],
   "source": [
    "data['Holiday (int)'] = data['Holiday'].apply(lambda x: 0 if x == 'No Holiday' else 1)\n",
    "\n",
    "data.loc[data['Seasons'] == 'Winter', 'Seasons (int)'] = 1\n",
    "data.loc[data['Seasons'] == 'Spring', 'Seasons (int)'] = 2\n",
    "data.loc[data['Seasons'] == 'Summer', 'Seasons (int)'] = 3\n",
    "data.loc[data['Seasons'] == 'Autumn', 'Seasons (int)'] = 4\n",
    "data['Date'] = pd.to_datetime(data['Date'], format=\"%d/%m/%Y\")\n",
    "\n",
    "data['Functioning Day (int)'] = data['Functioning Day'].apply(lambda x: 1 if x == 'Yes' else 0)\n",
    "\n",
    "df = data.drop(['Holiday', 'Date', 'Seasons', 'Functioning Day'], axis=1)\n",
    "\n",
    "df.head()"
   ]
  },
  {
   "source": [
    "## Les données\n",
    "\n",
    "Nous allons utilisé deux set d'entrée (X) sur les différents test.\n",
    "\n",
    "- Le premier garde toutes les informations (colonnes) données par le dataset\n",
    "- Le deuxième garde seulement les informations que nous avons déduit importante dans la partie Data-visualisation "
   ],
   "cell_type": "markdown",
   "metadata": {}
  },
  {
   "cell_type": "code",
   "execution_count": 18,
   "metadata": {},
   "outputs": [],
   "source": [
    "X = df.iloc[:, 1:13]\n",
    "X2 = df.iloc[:, 1:13]\n",
    "X2 = X2.drop(['Functioning Day (int)'], axis=1)\n",
    "X2 = X2.drop(['Dew point temperature(°C)'], axis=1)\n",
    "X2['working_day'] = (data['Date'].dt.dayofweek < 5).astype(np.int)\n",
    "y = df.iloc[:, 0]\n",
    "\n",
    "X = X.values\n",
    "X2 = X2.values\n",
    "y = y.values"
   ]
  },
  {
   "source": [
    "Séparation en train et test set :"
   ],
   "cell_type": "markdown",
   "metadata": {}
  },
  {
   "cell_type": "code",
   "execution_count": 19,
   "metadata": {},
   "outputs": [],
   "source": [
    "n_train = int(len(y)*0.75)\n",
    "trainX , testX = X[:n_train , :] ,X[ n_train:, :]\n",
    "trainX2 , testX2 = X2[:n_train , :] ,X2[ n_train:, :]\n",
    "trainy , testy = y[:n_train ], y[ n_train:]"
   ]
  },
  {
   "source": [
    "## Fonction pour different algorithm"
   ],
   "cell_type": "markdown",
   "metadata": {}
  },
  {
   "cell_type": "code",
   "execution_count": 6,
   "metadata": {},
   "outputs": [],
   "source": [
    "from sklearn.model_selection import GridSearchCV\n",
    "# Logistic Regression\n",
    "from sklearn.linear_model import LogisticRegression\n",
    "def MLogisticR(trainX,trainy):\n",
    "    return LogisticRegression(random_state=0).fit(trainX, trainy)\n",
    "\n",
    "# Linear Regression\n",
    "from sklearn.linear_model import LinearRegression\n",
    "def MLinearR(trainX, trainy):\n",
    "    grid = GridSearchCV(LinearRegression(), {})\n",
    "    grid.fit(trainX, trainy)\n",
    "    return grid.best_estimator_\n",
    "\n",
    "# SVM\n",
    "from sklearn import svm\n",
    "def MSVM(trainX, trainy):\n",
    "    parameters = {  'C'       : [190, 200, 250, 260]   ,\n",
    "                'kernel'  : ['rbf'],\n",
    "                'gamma'   : [ 0.03],\n",
    "                  \"epsilon\" : [1.5, 2, 2.5],\n",
    "                 \"degree\" : [1,2]}\n",
    "    grid = GridSearchCV(svm.SVR(), parameters, n_jobs=-1)\n",
    "    grid.fit(trainX, trainy)\n",
    "    return grid.best_estimator_\n",
    "\n",
    "# SVC\n",
    "def MSVC(trainX, trainy):\n",
    "    parameters = {  \"C\"              : [1.0],#, 0.5, 0.1, 2]                , \n",
    "                \"kernel\"         : ['rbf'],#, 'poly', 'sigmoid']        ,\n",
    "                \"degree\"         : [2],#, 3, 4,5,6]                     , \n",
    "                \"gamma\"          : [0.01],#, 0.1, 0.001, 0.5]           , \n",
    "                \"coef0\"          : [0.0]                             , \n",
    "                \"shrinking\"      : [True]                            , \n",
    "                \"probability\"    : [True]                            , \n",
    "                \"tol\"            : [0.001]                           , \n",
    "                \"cache_size\"     : [10]                              , \n",
    "                \"class_weight\"   : [None]                            , \n",
    "                \"verbose\"        : [False]                           , \n",
    "                \"max_iter\"       : [-1]                              , \n",
    "                \"random_state\"   : [None]                            }\n",
    "    grid = GridSearchCV(svm.SVC(), parameters, n_jobs=-1)\n",
    "    grid.fit(trainX, trainy)\n",
    "    return grid.best_estimator_\n",
    "\n",
    "# KNN\n",
    "from sklearn.neighbors         import KNeighborsClassifier\n",
    "def MKNN(trainX, trainy):\n",
    "    parameters = {  \"n_neighbors\"    : [2, 3, 5, 8 , 10, 15, 20]                , \n",
    "                \"weights\"         : ['uniform', 'distance']                  ,\n",
    "                \"algorithm\"      : ['auto', 'ball_tree', 'kd_tree', 'brute'] }\n",
    "    grid = GridSearchCV(KNeighborsClassifier(), parameters, n_jobs=-1)\n",
    "    grid.fit(trainX, trainy)\n",
    "    return grid.best_estimator_\n",
    "\n",
    "# Random Forest Classifier\n",
    "from sklearn.ensemble          import RandomForestClassifier\n",
    "def MRandomFC(trainX, trainy):\n",
    "    grid = GridSearchCV(RandomForestClassifier(), {}, n_jobs=-1)\n",
    "    grid.fit(trainX, trainy)\n",
    "    return grid.best_estimator_\n",
    "\n",
    "# Gradient Boosting classifier\n",
    "from sklearn.ensemble import GradientBoostingClassifier\n",
    "def MGradientBC(trainX, trainy):\n",
    "    parameters = {'n_estimators': [10, 20, 30]           ,\n",
    "                'learning_rate': [0.01, 0.1]                    }\n",
    "    grid = GridSearchCV(GradientBoostingClassifier(), parameters, n_jobs=-1)\n",
    "    grid.fit(trainX, trainy)\n",
    "    return grid.best_estimator_"
   ]
  },
  {
   "source": [
    "## Score de chaque algorithme avec nos données"
   ],
   "cell_type": "markdown",
   "metadata": {}
  },
  {
   "cell_type": "code",
   "execution_count": 8,
   "metadata": {},
   "outputs": [],
   "source": [
    "scoreFull = []\n",
    "scorePart = []\n",
    "axeX = [\"Logistic Regression\", \"Linear Regression\", \"SVM\", \"SVC\", \"Knn\", \"Random Forest Classifier\"]\n",
    "modelFull = []\n",
    "modelPart = []"
   ]
  },
  {
   "cell_type": "code",
   "execution_count": 9,
   "metadata": {},
   "outputs": [],
   "source": [
    "temp = MLogisticR(trainX, trainy)\n",
    "scoreFull.append(temp.score(testX, testy))\n",
    "modelFull.append(temp)\n",
    "\n",
    "temp = MLinearR(trainX, trainy)\n",
    "scoreFull.append(temp.score(testX, testy))\n",
    "modelFull.append(temp)\n",
    "\n",
    "temp = MSVM(trainX, trainy)\n",
    "scoreFull.append(temp.score(testX, testy))\n",
    "modelFull.append(temp)\n",
    "\n",
    "temp = MSVC(trainX, trainy)\n",
    "scoreFull.append(temp.score(testX, testy))\n",
    "modelFull.append(temp)\n",
    "\n",
    "temp = MKNN(trainX, trainy)\n",
    "scoreFull.append(temp.score(testX, testy))\n",
    "modelFull.append(temp)\n",
    "\n",
    "temp = MRandomFC(trainX, trainy)\n",
    "scoreFull.append(temp.score(testX, testy))\n",
    "modelFull.append(temp)"
   ]
  },
  {
   "cell_type": "code",
   "execution_count": null,
   "metadata": {},
   "outputs": [],
   "source": [
    "temp = MLogisticR(trainX2, trainy)\n",
    "scorePart.append(temp.score(testX2, testy))\n",
    "modelPart.append(temp)\n",
    "\n",
    "temp = MLinearR(trainX2, trainy)\n",
    "scorePart.append(temp.score(testX2, testy))\n",
    "modelPart.append(temp)\n",
    "\n",
    "temp = MSVM(trainX2, trainy)\n",
    "scorePart.append(temp.score(testX2, testy))\n",
    "modelPart.append(temp)\n",
    "\n",
    "temp = MSVC(trainX2, trainy)\n",
    "scorePart.append(temp.score(testX2, testy))\n",
    "modelPart.append(temp)\n",
    "\n",
    "temp = MKNN(trainX2, trainy)\n",
    "scorePart.append(temp.score(testX2, testy))\n",
    "modelPart.append(temp)\n",
    "\n",
    "temp = MRandomFC(trainX2, trainy)\n",
    "scorePart.append(temp.score(testX2, testy))\n",
    "modelPart.append(temp)"
   ]
  },
  {
   "cell_type": "code",
   "execution_count": null,
   "metadata": {},
   "outputs": [],
   "source": [
    "import matplotlib.pyplot as plt\n",
    "\n",
    "plot = pd.DataFrame(np.c_[scoreFull, scorePart], index=axeX)\n",
    "df.plot.bar()\n",
    "\n",
    "plt.show()"
   ]
  }
 ]
}